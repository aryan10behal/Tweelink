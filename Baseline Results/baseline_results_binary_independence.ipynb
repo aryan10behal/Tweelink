{
  "cells": [
    {
      "cell_type": "code",
      "execution_count": 1,
      "metadata": {
        "colab": {
          "base_uri": "https://localhost:8080/"
        },
        "id": "A-6HD8Pe-_Sp",
        "outputId": "2a4add47-57df-4d21-e4a6-23a8679f5ebb"
      },
      "outputs": [
        {
          "output_type": "stream",
          "name": "stdout",
          "text": [
            "Drive already mounted at /content/drive; to attempt to forcibly remount, call drive.mount(\"/content/drive\", force_remount=True).\n"
          ]
        }
      ],
      "source": [
        "from google.colab import drive\n",
        "drive.mount('/content/drive')"
      ]
    },
    {
      "cell_type": "code",
      "execution_count": 2,
      "metadata": {
        "colab": {
          "base_uri": "https://localhost:8080/"
        },
        "id": "EjXXowTxCgx7",
        "outputId": "8a5764fe-4d4f-49ae-93c4-3286fb8cb012"
      },
      "outputs": [
        {
          "output_type": "stream",
          "name": "stdout",
          "text": [
            "Collecting git+https://github.com/LIAAD/yake\n",
            "  Cloning https://github.com/LIAAD/yake to /tmp/pip-req-build-d3__7ffn\n",
            "  Running command git clone -q https://github.com/LIAAD/yake /tmp/pip-req-build-d3__7ffn\n",
            "Requirement already satisfied: tabulate in /usr/local/lib/python3.7/dist-packages (from yake==0.4.8) (0.8.9)\n",
            "Requirement already satisfied: click>=6.0 in /usr/local/lib/python3.7/dist-packages (from yake==0.4.8) (7.1.2)\n",
            "Requirement already satisfied: numpy in /usr/local/lib/python3.7/dist-packages (from yake==0.4.8) (1.21.5)\n",
            "Requirement already satisfied: segtok in /usr/local/lib/python3.7/dist-packages (from yake==0.4.8) (1.5.11)\n",
            "Requirement already satisfied: networkx in /usr/local/lib/python3.7/dist-packages (from yake==0.4.8) (2.6.3)\n",
            "Requirement already satisfied: jellyfish in /usr/local/lib/python3.7/dist-packages (from yake==0.4.8) (0.9.0)\n",
            "Requirement already satisfied: regex in /usr/local/lib/python3.7/dist-packages (from segtok->yake==0.4.8) (2019.12.20)\n"
          ]
        }
      ],
      "source": [
        "! pip install git+https://github.com/LIAAD/yake\n",
        "import yake"
      ]
    },
    {
      "cell_type": "code",
      "source": [
        "from collections import defaultdict\n",
        "from math import log, sqrt\n",
        "import re\n",
        "import numpy as np\n",
        "import sys\n",
        "from copy import deepcopy\n",
        "import pandas as pd\n",
        "import numpy as np\n",
        "import csv\n",
        "import json\n",
        "from itertools import islice\n",
        "from collections import OrderedDict\n",
        "import pandas as pd\n",
        "import numpy as np\n",
        "import matplotlib.pyplot as plt\n",
        "import seaborn as sns\n",
        "import os\n",
        "import nltk\n",
        "from glob import glob\n",
        "from nltk.corpus import stopwords\n",
        "from nltk.stem import WordNetLemmatizer\n",
        "from nltk.tokenize import word_tokenize\n",
        "from nltk.stem import PorterStemmer\n",
        "from tqdm import tqdm\n",
        "import pickle\n",
        "import math\n",
        "from sklearn.model_selection import train_test_split\n",
        "import operator\n",
        "from sklearn.metrics import accuracy_score\n",
        "from sklearn.metrics import confusion_matrix, ConfusionMatrixDisplay\n",
        "import datetime"
      ],
      "metadata": {
        "id": "G49FIo8uLD8j"
      },
      "execution_count": 3,
      "outputs": []
    },
    {
      "cell_type": "code",
      "execution_count": 4,
      "metadata": {
        "id": "gShHsbJb_jDW"
      },
      "outputs": [],
      "source": [
        "file1 = open(\"/content/drive/MyDrive/Tweelink_Dataset/twitter_base_preprocessed.pkl\", \"rb\")\n",
        "df = pickle.load(file1)\n",
        "file1.close()"
      ]
    },
    {
      "cell_type": "code",
      "source": [
        "def get_relevant_docs_list_for_base_hashtag(base_hashtag, base_date, docs_preprocessed):\n",
        "  relevant_docs_list = []\n",
        "  for doc in docs_preprocessed:\n",
        "    if doc['Data']['Base Hashtag']==base_hashtag:\n",
        "      current_date = datetime.datetime.strptime(base_date, format)\n",
        "      prev_date = current_date - datetime.timedelta(days=1)\n",
        "      next_date = current_date + datetime.timedelta(days=1)\n",
        "      if(doc['Data']['Date'] in [str(prev_date.date()), str(current_date.date()), str(next_date.date())]):\n",
        "        relevant_docs_list.append(doc['Name'])\n",
        "  return relevant_docs_list"
      ],
      "metadata": {
        "id": "FRVSYuVjT3cm"
      },
      "execution_count": 5,
      "outputs": []
    },
    {
      "cell_type": "code",
      "source": [
        "def precision_at_k(k, base_hashtag, base_date, prediction_list, docs_preprocessed):\n",
        "  relevant_docs_list = get_relevant_docs_list_for_base_hashtag(base_hashtag, base_date, docs_preprocessed)\n",
        "  num_of_relevant_results=0\n",
        "  for itr in range(k):\n",
        "    if (prediction_list[itr] in relevant_docs_list):\n",
        "      num_of_relevant_results+=1\n",
        "  return num_of_relevant_results/k"
      ],
      "metadata": {
        "id": "uiu_FtqqT4GS"
      },
      "execution_count": 6,
      "outputs": []
    },
    {
      "cell_type": "code",
      "source": [
        "def mean_average_precision(max_k, base_hashtag, base_date, relevant_docs, docs_preprocessed):\n",
        "  average_precision=0\n",
        "  ctr=0\n",
        "  for k_val in range(1,max_k+1):\n",
        "    ctr+=1\n",
        "    precision_at_k_val = precision_at_k(k_val, base_hashtag, base_date, relevant_docs, docs_preprocessed)\n",
        "    #print('Hashtag: {}   Precision@{}: {}'.format(base_hashtag, k_val, precision_at_k_val))\n",
        "    average_precision += precision_at_k_val\n",
        "  return average_precision/ctr"
      ],
      "metadata": {
        "id": "4Q6W2l8-T6G3"
      },
      "execution_count": 7,
      "outputs": []
    },
    {
      "cell_type": "code",
      "source": [
        "def recall_at_k(k, base_hashtag, base_date, prediction_list, docs_preprocessed):\n",
        "  relevant_docs_list = get_relevant_docs_list_for_base_hashtag(base_hashtag, base_date, docs_preprocessed)\n",
        "  current_num_of_relevant_results=0\n",
        "  for itr in range(k):\n",
        "    if (prediction_list[itr] in relevant_docs_list):\n",
        "      current_num_of_relevant_results+=1\n",
        "  if(len(relevant_docs_list)==0):\n",
        "    return 0\n",
        "  return current_num_of_relevant_results/len(relevant_docs_list)"
      ],
      "metadata": {
        "id": "cihke9X6T7oh"
      },
      "execution_count": 8,
      "outputs": []
    },
    {
      "cell_type": "code",
      "source": [
        "def mean_average_recall(max_k, base_hashtag, base_date, relevant_docs, docs_preprocessed):\n",
        "  average_recall=0\n",
        "  ctr=0\n",
        "  for k_val in range(1,max_k+1):\n",
        "    ctr+=1\n",
        "    recall_at_k_val = recall_at_k(k_val, base_hashtag, base_date, relevant_docs, docs_preprocessed)\n",
        "    #print('Hashtag: {}   Recall@{}: {}'.format(base_hashtag, k_val, recall_at_k_val))\n",
        "    average_recall += recall_at_k_val\n",
        "  return average_recall/ctr"
      ],
      "metadata": {
        "id": "B52GnqVwT9Sf"
      },
      "execution_count": 9,
      "outputs": []
    },
    {
      "cell_type": "code",
      "execution_count": 10,
      "metadata": {
        "id": "npSDU9no-G68"
      },
      "outputs": [],
      "source": [
        "# ## Import the data ad create the inverted index\n",
        "\n",
        "def import_dataset():\n",
        "    \"\"\"\n",
        "    This function import all the articles in the TIME corpus,\n",
        "    returning list of lists where each sub-list contains all the\n",
        "    terms present in the document as a string.\n",
        "    \"\"\"\n",
        "    # articles = []\n",
        "    # with open('TIME.ALL', 'r') as f:\n",
        "    #     tmp = []\n",
        "    #     for row in f:\n",
        "    #         if row.startswith(\"*TEXT\"):\n",
        "    #             if tmp != []:\n",
        "    #                 articles.append(tmp)\n",
        "    #             tmp = []\n",
        "    #         else:\n",
        "    #             row = re.sub(r'[^a-zA-Z\\s]+', '', row)\n",
        "    #             tmp += row.split()\n",
        "    # return articles\n",
        "\n",
        "    docs_preprocessed_metrics = []\n",
        "    docs_preprocessed = []\n",
        "    docs_preprocessed_with_names = []\n",
        "    path = '/content/drive/MyDrive/Tweelink_Dataset/Tweelink_Articles_Processed'\n",
        "    for filename in glob(os.path.join(path, '*')):\n",
        "      with open(os.path.join(os.getcwd(), filename), 'r', encoding = 'utf-8',errors = 'ignore') as f:\n",
        "        filename = os.path.basename(f.name)\n",
        "        data = json.load(f)\n",
        "        d_date = data[\"Date\"]\n",
        "        if(d_date==\"\" or d_date==\"Date\"):\n",
        "          continue\n",
        "        format = '%Y-%m-%d'\n",
        "    \n",
        "        d_present_date = datetime.datetime.strptime(d_date, format)\n",
        "    \n",
        "        if(str(d_present_date.date()) not in [str(u_present_date.date()), str(u_prev_date.date()), str(u_next_date.date())]):\n",
        "          continue\n",
        "      \n",
        "        docs_preprocessed_metrics.append({'Name':filename, 'Data':data})\n",
        "        docs_preprocessed.append(data['Body_processed'])\n",
        "        docs_preprocessed_with_names.append(filename)\n",
        "\n",
        "    return docs_preprocessed, docs_preprocessed_with_names, docs_preprocessed_metrics\n",
        "\n",
        "\n",
        "\n",
        "\n",
        "# def remove_stop_words(corpus):\n",
        "#    '''\n",
        "#    This function removes from the corpus all the stop words present in the file TIME.STP\n",
        "#    '''\n",
        "#    stop_w = [line.rstrip('\\n') for line in open('TIME.STP')]\n",
        "#    stop_w=list(filter(None, stop_w))\n",
        "#    for i in range(0,len(corpus)):\n",
        "#        corpus[i] = [x for x in corpus[i] if x not in stop_w]\n",
        "#    return corpus \n",
        "\n",
        "\n",
        "def make_inverted_index(corpus):\n",
        "    \"\"\"\n",
        "    This function builds an inverted index as an hash table (dictionary)\n",
        "    where the keys are the terms and the values are ordered lists of\n",
        "    docIDs containing the term.\n",
        "    \"\"\"\n",
        "    # corpus = remove_stop_words(corpus)\n",
        "    index = defaultdict(set)\n",
        "    for docid, article in enumerate(corpus):\n",
        "        for term in article:\n",
        "            index[term].add(docid)\n",
        "    return index\n",
        "\n",
        "\n",
        "# ### Union of two posting lists\n",
        "\n",
        "\n",
        "def posting_lists_union(pl1, pl2):\n",
        "        \"\"\"\n",
        "        Returns a new posting list resulting from the union of the\n",
        "        two lists passed as arguments.\n",
        "        \"\"\"\n",
        "        pl1 = sorted(list(pl1))\n",
        "        pl2 = sorted(list(pl2))\n",
        "        union = []\n",
        "        i = 0\n",
        "        j = 0\n",
        "        while (i < len(pl1) and j < len(pl2)):\n",
        "            if (pl1[i] == pl2[j]):\n",
        "                union.append(pl1[i])\n",
        "                i += 1\n",
        "                j += 1\n",
        "            elif (pl1[i] < pl2[j]):\n",
        "                union.append(pl1[i])\n",
        "                i += 1\n",
        "            else:\n",
        "                union.append(pl2[j])\n",
        "                j += 1\n",
        "        for k in range(i, len(pl1)):\n",
        "            union.append(pl1[k])\n",
        "        for k in range(j, len(pl2)):\n",
        "            union.append(pl2[k])\n",
        "        return union\n",
        "\n",
        "\n",
        "# ## Precomputing weights\n",
        "\n",
        "\n",
        "def DF(term, index):\n",
        "    '''\n",
        "    Function computing Document Frequency for a term.\n",
        "    '''\n",
        "    return len(index[term])\n",
        "\n",
        "\n",
        "def IDF(term, index, corpus):\n",
        "    '''\n",
        "    Function computing Inverse Document Frequency for a term.\n",
        "    '''\n",
        "    return log(len(corpus)/DF(term, index))\n",
        "\n",
        "\n",
        "def RSV_weights(corpus,index):\n",
        "    '''\n",
        "    This function precomputes the Retrieval Status Value weights\n",
        "    for each term in the index\n",
        "    '''\n",
        "    N = len(corpus)\n",
        "    w = {}\n",
        "    for term in index.keys():\n",
        "        p = DF(term, index)/(N+0.5)  \n",
        "        w[term] = IDF(term, index, corpus) + log(p/(1-p))\n",
        "    return w\n",
        "    \n",
        "\n",
        "\n",
        "# ## BIM Class\n",
        "\n",
        "\n",
        "class BIM():\n",
        "    '''\n",
        "    Binary Independence Model class\n",
        "    '''\n",
        "    \n",
        "    def __init__(self, corpus, articles_with_name):\n",
        "        self.original_corpus = deepcopy(corpus)\n",
        "        self.articles_with_name = articles_with_name\n",
        "        self.articles = corpus\n",
        "        self.index = make_inverted_index(self.articles)\n",
        "        self.weights = RSV_weights(self.articles, self.index)\n",
        "        self.ranked = []\n",
        "        self.query_text = ''\n",
        "        self.N_retrieved = 0\n",
        "    \n",
        "        \n",
        "    def RSV_doc_query(self, doc_id, query):\n",
        "        '''\n",
        "        This function computes the Retrieval Status Value for a given couple document - query\n",
        "        using the precomputed weights\n",
        "        '''\n",
        "        score = 0\n",
        "        doc = self.articles[doc_id]\n",
        "        for term in doc:\n",
        "            if term in query:\n",
        "                score += self.weights[term]     \n",
        "        return score\n",
        "\n",
        "    \n",
        "        \n",
        "    def ranking(self, query):\n",
        "        '''\n",
        "        Auxiliary function for the function answer_query. Computes the score only for documents\n",
        "        that are in the posting list of al least one term in the query\n",
        "        '''\n",
        "\n",
        "        docs = []\n",
        "        for term in self.index: \n",
        "            # print(term in query, query, term)\n",
        "            if term in query:\n",
        "                docs = posting_lists_union(docs, self.index[term])\n",
        "\n",
        "        scores = []\n",
        "        for doc in docs:\n",
        "            scores.append((doc, self.RSV_doc_query(doc, query)))\n",
        "        \n",
        "        self.ranked = sorted(scores, key=lambda x: x[1], reverse = True)\n",
        "        return self.ranked\n",
        "    \n",
        "    \n",
        "    \n",
        "    def recompute_weights(self, relevant_idx, query):\n",
        "        '''\n",
        "        Auxiliary function for relevance_feedback function and\n",
        "        for the pseudo relevance feedback in answer_query function.\n",
        "        Recomputes the weights, only for the terms in the query\n",
        "        based on a set of relevant documents.\n",
        "        '''\n",
        "        \n",
        "        relevant_docs = []\n",
        "        for idx in relevant_idx:\n",
        "            doc_id = self.ranked[idx-1][0]\n",
        "            relevant_docs.append(self.articles[doc_id])\n",
        "        \n",
        "        N = len(self.articles)\n",
        "        N_rel = len(relevant_idx)\n",
        "        \n",
        "        for term in query:\n",
        "            if term in self.weights.keys():\n",
        "                vri = 0\n",
        "                for doc in relevant_docs:\n",
        "                    if term in doc:\n",
        "                        vri += 1\n",
        "                p = (vri + 0.5) /( N_rel + 1)\n",
        "                u = (DF(term, self.index) - vri + 0.5) / (N - N_rel +1)\n",
        "                self.weights[term] = log((1-u)/u) + log(p/(1-p))\n",
        "\n",
        "            \n",
        "    \n",
        "    def answer_query(self, query_text):\n",
        "        '''\n",
        "        Function to answer a free text query. Shows the first 30 words of the\n",
        "        15 most relevant documents. \n",
        "        Also implements the pseudo relevance feedback with k = 5\n",
        "        '''\n",
        "        \n",
        "        self.query_text = query_text\n",
        "        query =  query_text.lower().split()\n",
        "        ranking = self.ranking(query)\n",
        "\n",
        "        ## pseudo relevance feedback \n",
        "        i = 0\n",
        "        new_ranking=[]\n",
        "        while i<10 and ranking != new_ranking:\n",
        "            self.recompute_weights([1,2,3,4,5], query)\n",
        "            new_ranking = self.ranking(query)\n",
        "            i+=1\n",
        "\n",
        "\n",
        "        ranking = new_ranking\n",
        "        \n",
        "        self.N_retrieved = 20\n",
        "        \n",
        "        ## print retrieved documents\n",
        "        ret_list = []\n",
        "        for i in range(0, self.N_retrieved):\n",
        "            article = self.original_corpus[ranking[i][0]]\n",
        "            if (len(article) > 30):\n",
        "                article = article[0:30]\n",
        "            text = \" \".join(article)\n",
        "            print(f\"Article {self.articles_with_name[self.ranked[i][0]]}, score: {ranking[i][1]}\")\n",
        "            ret_list.append(self.articles_with_name[self.ranked[i][0]])\n",
        "            # print(text, '\\n')\n",
        "\n",
        "        self.weights = RSV_weights(self.articles, self.index)\n",
        "        return ret_list\n",
        "\n",
        "\n",
        "            \n",
        "    def relevance_feedback(self, *args):\n",
        "        '''\n",
        "        Function that implements relevance feedback for the last query formulated.\n",
        "        The set of relevant documents is given by the user through a set of indexes\n",
        "        '''\n",
        "        if(self.query_text == ''):\n",
        "            print('Cannot get feedback before a query is formulated.')\n",
        "            return\n",
        "        \n",
        "        relevant_idx = list(args)\n",
        "        \n",
        "        if(isinstance(relevant_idx[0], list)):\n",
        "            relevant_idx = relevant_idx[0]\n",
        "        \n",
        "        query = self.query_text.upper().split()\n",
        "        self.recompute_weights(relevant_idx,query)\n",
        "        \n",
        "        self.answer_query(self.query_text)\n",
        "    \n",
        "    \n",
        "    def read_document(self,rank_num):\n",
        "        '''\n",
        "        Function that allows the user to select a document among the ones returned \n",
        "        by answer_query and read the whole text\n",
        "        '''\n",
        "        if(self.query_text == ''):\n",
        "            print('Cannot select a document before a query is formulated.')\n",
        "            return\n",
        "            \n",
        "        article = self.original_corpus[self.ranked[rank_num - 1][0]]\n",
        "        text = \" \".join(article)\n",
        "        print(f\"Article {rank_num}, score: {self.ranked[rank_num][1]}\")\n",
        "        print(text, '\\n')\n",
        "        \n",
        "        \n",
        "    def show_more(self):\n",
        "        '''\n",
        "        Function that allows the user to see more 10 retrieved documents\n",
        "        '''\n",
        "        \n",
        "        if(self.N_retrieved + 10 > len(self.ranked)):\n",
        "            print('No more documents available')\n",
        "            return \n",
        "        \n",
        "        for i in range(self.N_retrieved, self.N_retrieved+10):\n",
        "            article = self.original_corpus[self.ranked[i][0]]\n",
        "            if (len(article) > 30):\n",
        "                article = article[0:30]\n",
        "            text = \" \".join(article)\n",
        "            print(f\"Article {self.articles_with_name[self.ranked[i][0]]}, score: {self.ranked[i][1]}\")\n",
        "            print(text, '\\n')\n",
        "        \n",
        "        self.N_retrieved += 10 \n",
        "        \n",
        "\n",
        "\n",
        "\n",
        "# Example of usage\n",
        "\n",
        "# articles, articles_with_name = import_dataset()\n",
        "# bim  = BIM(articles, articles_with_name)\n",
        "# bim.answer_query('Italy and Great Britain fight the enemy')\n",
        "# bim.relevance_feedback(5,6,8)\n",
        "# bim.show_more()\n",
        "# bim.read_document(2)"
      ]
    },
    {
      "cell_type": "code",
      "execution_count": 11,
      "metadata": {
        "colab": {
          "base_uri": "https://localhost:8080/"
        },
        "id": "FqZ4Z7JT_oIz",
        "outputId": "d24ce3f7-4c42-4c96-8077-ed5405942cfa"
      },
      "outputs": [
        {
          "name": "stdout",
          "output_type": "stream",
          "text": [
            "Enter base hashtag: hijab\n",
            "Enter time: 2022-02-19\n",
            "Enter Location: india\n"
          ]
        }
      ],
      "source": [
        "u_base_hashtag = input(\"Enter base hashtag: \")\n",
        "u_time = input(\"Enter time: \")\n",
        "u_location = input(\"Enter Location: \")"
      ]
    },
    {
      "cell_type": "code",
      "execution_count": 12,
      "metadata": {
        "id": "yGrY-qLq_qSc"
      },
      "outputs": [],
      "source": [
        "tweet_query = []\n",
        "format = '%Y-%m-%d'\n",
        "u_present_date = datetime.datetime.strptime(u_time, format)\n",
        "u_prev_date = u_present_date - datetime.timedelta(days=1)\n",
        "u_next_date = u_present_date + datetime.timedelta(days=1)\n",
        "df_query = df.loc[df['hashtags'].str.contains(u_base_hashtag) & df['Date_Only'].isin([str(u_present_date.date()), str(u_prev_date.date()), str(u_next_date.date())])]"
      ]
    },
    {
      "cell_type": "code",
      "execution_count": 13,
      "metadata": {
        "id": "pz867JVX_rxA"
      },
      "outputs": [],
      "source": [
        "for tweet in df_query['Preprocessed_Data']:\n",
        "  tweet_query.extend(tweet)"
      ]
    },
    {
      "cell_type": "code",
      "execution_count": 14,
      "metadata": {
        "colab": {
          "base_uri": "https://localhost:8080/"
        },
        "id": "wdCaO1wPClna",
        "outputId": "30104c0a-d992-44f8-fd58-602e58c7138d"
      },
      "outputs": [
        {
          "output_type": "stream",
          "name": "stdout",
          "text": [
            "['hijab', 'karnataka', 'india', 'muslim', 'islam', 'hijabisfundamentalright', 'hijabisourright', 'hijabcontroversy', 'started', 'abaya', 'hijabrow', 'http', 'persecution', 'wear', 'allah', 'woman', 'karnatakahijabcontroversy', 'wearing', 'school', 'world', 'modestfashion', 'quran', 'hijabisindividualright', 'judge', 'modest', 'deen', 'prophetmuhammad', 'dua', 'makkah', 'college', 'hijabban', 'religion', 'china', 'remove', 'islamophobia', 'girl', 'hindu', 'education', 'islamist', 'hijabisourpride', 'hijaboruniform', 'student', 'permission', 'beard', 'freedom', 'asian', 'allowed', 'public', 'saudi', 'hijabplot', 'hijabaurkitab', 'class', 'niqab', 'muslimmen', 'leader']\n"
          ]
        }
      ],
      "source": [
        "tweet_keywords = []\n",
        "kw_extractor = yake.KeywordExtractor(top=100, stopwords=None)\n",
        "keywords = kw_extractor.extract_keywords(' '.join(tweet_query))\n",
        "for kw, v in keywords:\n",
        "  # print(\"Keyphrase: \",kw, \": score\", v)\n",
        "  for key in kw.split():\n",
        "    if(key not in tweet_keywords):\n",
        "      tweet_keywords.append(key)\n",
        "\n",
        "print(tweet_keywords)\n"
      ]
    },
    {
      "cell_type": "code",
      "source": [
        "# Example of usage\n",
        "articles, articles_with_name, docs_preprocessed_metrics = import_dataset()"
      ],
      "metadata": {
        "id": "u_GxOwk2G9-5"
      },
      "execution_count": 15,
      "outputs": []
    },
    {
      "cell_type": "code",
      "source": [
        "#results with normal query\n",
        "bim  = BIM(articles, articles_with_name)\n",
        "relevant_articles_list_1 = bim.answer_query(\" \".join(tweet_query))\n",
        "\n",
        "# bim.relevance_feedback(5,6,8)\n",
        "# bim.show_more()\n",
        "# bim.read_document(2)"
      ],
      "metadata": {
        "colab": {
          "base_uri": "https://localhost:8080/"
        },
        "id": "oK89bse1GWVn",
        "outputId": "479305cb-5a11-4c55-93ec-42f833723f10"
      },
      "execution_count": 16,
      "outputs": [
        {
          "output_type": "stream",
          "name": "stdout",
          "text": [
            "Article PunjabElections2022_124.json, score: 2431.875516537549\n",
            "Article PunjabElections2022_127.json, score: 2036.6257248770753\n",
            "Article WriddhimanSaha_133.json, score: 1580.1507255073966\n",
            "Article narendramodi_305.json, score: 794.1252221714537\n",
            "Article PlotToKillModi_217.json, score: 663.3189159947643\n",
            "Article CallTheMidwife_251.json, score: 590.3087387341195\n",
            "Article UkraineRussiaCrisis_212.json, score: 537.4363661559669\n",
            "Article ScottyFromWelding_170.json, score: 533.4332753409695\n",
            "Article narendramodi_256.json, score: 523.2291080901812\n",
            "Article PunjabElections2022_123.json, score: 513.8500121342847\n",
            "Article BJPwinningUP_63.json, score: 511.6457608931673\n",
            "Article MultiverseOfMadness_16.json, score: 486.7671114456192\n",
            "Article hijab_286.json, score: 485.8467718684355\n",
            "Article PunjabElections2022_125.json, score: 484.80388032055896\n",
            "Article PlotToKillModi_211.json, score: 481.388351261419\n",
            "Article vaccine_299.json, score: 473.2611520472915\n",
            "Article PunjabElections2022_121.json, score: 471.7439448299724\n",
            "Article Cyberpunk2077_58.json, score: 470.7809125413464\n",
            "Article OperationDudula_261.json, score: 469.27364579447277\n",
            "Article HorizonForbiddenWest_232.json, score: 461.35909035252996\n"
          ]
        }
      ]
    },
    {
      "cell_type": "code",
      "source": [
        "mean_average_precision_hashtag = mean_average_precision(20, u_base_hashtag, u_time, relevant_articles_list_1, docs_preprocessed_metrics)\n",
        "print(mean_average_precision_hashtag)\n",
        "\n",
        "mean_average_recall_hashtag = mean_average_recall(20, u_base_hashtag, u_time, relevant_articles_list_1, docs_preprocessed_metrics)\n",
        "print(mean_average_recall_hashtag)"
      ],
      "metadata": {
        "colab": {
          "base_uri": "https://localhost:8080/"
        },
        "id": "4kXaqZ1pUKfF",
        "outputId": "b4939599-4089-4035-aeb5-605c559df983"
      },
      "execution_count": 17,
      "outputs": [
        {
          "output_type": "stream",
          "name": "stdout",
          "text": [
            "0.024726448946650187\n",
            "0.019999999999999997\n"
          ]
        }
      ]
    },
    {
      "cell_type": "code",
      "execution_count": 18,
      "metadata": {
        "colab": {
          "base_uri": "https://localhost:8080/"
        },
        "id": "PblKJeWT_8YP",
        "outputId": "5c6047cf-77ea-4f85-c0dc-7d9c199734f6"
      },
      "outputs": [
        {
          "output_type": "stream",
          "name": "stdout",
          "text": [
            "Article hijab_287.json, score: 360.8473875252002\n",
            "Article hijab_285.json, score: 311.19418549066194\n",
            "Article hijab_286.json, score: 309.0270559760698\n",
            "Article hijab_288.json, score: 302.7659271310009\n",
            "Article hijab_281.json, score: 259.1955121842896\n",
            "Article hijab_284.json, score: 221.65373220222963\n",
            "Article hijab_289.json, score: 219.33499273159325\n",
            "Article hijab_282.json, score: 207.49763544464935\n",
            "Article hijab_290.json, score: 168.4966059499218\n",
            "Article hijab_283.json, score: 154.85202281909233\n",
            "Article BJPwinningUP_63.json, score: 64.44915272456834\n",
            "Article PunjabElections2022_124.json, score: 47.10563152445704\n",
            "Article PunjabElections2022_127.json, score: 44.781142742815184\n",
            "Article PunjabElections2022_122.json, score: 37.24842699407499\n",
            "Article BJPwinningUP_66.json, score: 37.14070289796401\n",
            "Article QueenElizabeth_160.json, score: 30.106017396854178\n",
            "Article WriddhimanSaha_133.json, score: 22.63242886640132\n",
            "Article narendramodi_253.json, score: 19.689019196238\n",
            "Article PlotToKillModi_216.json, score: 18.098580358564554\n",
            "Article ScottyFromWelding_170.json, score: 17.51471257038242\n"
          ]
        }
      ],
      "source": [
        "# results with top k keywords\n",
        "bim  = BIM(articles, articles_with_name)\n",
        "relevant_articles_list_2 = bim.answer_query(\" \".join(tweet_keywords))\n",
        "\n",
        "# bim.relevance_feedback(5,6,8)\n",
        "# bim.show_more()\n",
        "# bim.read_document(2)"
      ]
    },
    {
      "cell_type": "code",
      "source": [
        "mean_average_precision_hashtag = mean_average_precision(20, u_base_hashtag, u_time, relevant_articles_list_2, docs_preprocessed_metrics)\n",
        "print(mean_average_precision_hashtag)\n",
        "\n",
        "mean_average_recall_hashtag = mean_average_recall(20, u_base_hashtag, u_time, relevant_articles_list_2, docs_preprocessed_metrics)\n",
        "print(mean_average_recall_hashtag)"
      ],
      "metadata": {
        "colab": {
          "base_uri": "https://localhost:8080/"
        },
        "id": "oLqIiT2oXnKF",
        "outputId": "bde16f4d-2136-4653-fa83-205022cfc754"
      },
      "execution_count": 19,
      "outputs": [
        {
          "output_type": "stream",
          "name": "stdout",
          "text": [
            "0.834385701587714\n",
            "0.3875\n"
          ]
        }
      ]
    },
    {
      "cell_type": "code",
      "source": [
        "global_list = [['narendramodi', '2022-02-14', 'india'],['UkraineRussiaCrisis', '2022-02-14', 'ukraine'],['IPL', '2022-02-14', 'india'],['TaylorSwift', '2022-02-14', 'USA'],['IndiaFightsCorona', '2022-02-14', 'india'],['narendramodi', '2022-02-15', 'india'],['UkraineRussiaCrisis', '2022-02-15', 'ukraine'],['IPL', '2022-02-15', 'india'],['TaylorSwift', '2022-02-15', 'USA'],['IndiaFightsCorona', '2022-02-15', 'india'],['narendramodi', '2022-02-16', 'india'],['UkraineRussiaCrisis', '2022-02-16', 'ukraine'],['IPL', '2022-02-16', 'india'],['TaylorSwift', '2022-02-16', 'USA'],['IndiaFightsCorona', '2022-02-16', 'india'],['narendramodi', '2022-02-17', 'india'],['UkraineRussiaCrisis', '2022-02-17', 'ukraine'],['IPL', '2022-02-17', 'india'],['TaylorSwift', '2022-02-17', 'USA'],['IndiaFightsCorona', '2022-02-17', 'india'],['narendramodi', '2022-02-18', 'india'],['UkraineRussiaCrisis', '2022-02-18', 'ukraine'],['IPL', '2022-02-18', 'india'],['TaylorSwift', '2022-02-18', 'USA'],['IndiaFightsCorona', '2022-02-18', 'india'],['narendramodi', '2022-02-19', 'india'],['UkraineRussiaCrisis', '2022-02-19', 'ukraine'],['IPL', '2022-02-19', 'india'],['hijab', '2022-02-19', 'india'],['vaccine', '2022-02-19', 'india'],['MillionAtIndiaPavilion', '2022-02-14', 'UAE'],['PunjabPanjeNaal', '2022-02-14', 'India'],['Euphoria', '2022-02-14', 'World'],['OscarsFanFavorite', '2022-02-14', 'World'],['ShameOnBirenSingh', '2022-02-14', 'india'],['BappiLahiri', '2022-02-16', 'india'],['BlandDoritos', '2022-02-16', 'USA'],['VERZUZ', '2022-02-16', 'USA'],['DragRaceUK', '2022-02-16', 'United Kingdom'],['BoycottWalgreens', '2022-02-18', 'USA'],['PunjabElections2022', '2022-02-20', 'india'],['WriddhimanSaha', '2022-02-20', 'india'],['stormfranklin', '2022-02-20', 'USA'],['QueenElizabeth', '2022-02-20', 'United Kingdom'],['ScottyFromWelding', '2022-02-20', 'Australia'],['CarabaoCupFinal', '2022-02-27', 'London'],['NZvSA', '2022-02-28', 'New Zealand'],['IPCC', '2022-02-28', 'Worldwide'],['SuperBowl', '2022-02-14', 'USA'],['MultiverseOfMadness', '2022-02-14', 'USA'],['Eminem', '2022-02-14', 'USA'],['IPLAuction', '2022-02-14', 'india'],['JohnsonOut21', '2022-02-14', 'United Kingdom'],['Cyberpunk2077', '2022-02-15', 'Worldwide'],['Wordle242', '2022-02-15', 'Worldwide'],['DeepSidhu', '2022-02-15', 'india'],['CanadaHasFallen', '2022-02-15', 'canada'],['IStandWithTrudeau', '2022-02-15', 'canada'],['CNNPHVPDebate', '2022-02-26', 'philippines'],['qldfloods', '2022-02-26', 'australia'],['Eurovision', '2022-02-26', 'worldwide'],['IndiansInUkraine', '2022-02-26', 'india'],['PritiPatel', '2022-02-26', 'united kingdom'],['TaylorCatterall', '2022-02-27', 'united kingdom'],['PSLFinal', '2022-02-27', 'pakistan'],['AustraliaDecides', '2022-02-27', 'australia'],['WorldNGODay', '2022-02-27', 'worldwide'],['TheBatman', '2022-02-28', 'USA'],['NationalScienceDay', '2022-02-28', 'india'],['msdtrong', '2022-02-14', 'india'],['Boycott_ChennaiSuperKings', '2022-02-14', 'india'],['GlanceJio', '2022-02-14', 'india'],['ArabicKuthu', '2022-02-14', 'india'],['Djokovic', '2022-02-15', 'australia'],['Real Madrid', '2022-02-15', 'santiago'],['bighit', '2022-02-15', 'korea'],['Maxwell', '2022-02-15', 'australia'],['mafsau', '2022-02-16', 'australia'],['channi', '2022-02-16', 'punjab'],['ayalaan', '2022-02-16', 'india'],['jkbose', '2022-02-16', 'india'],['HappyBirthdayPrinceSK', '2022-02-16', 'india'],['RandomActsOfKindnessDay', '2022-02-17', 'worldwide'],['happybirthdayjhope', '2022-02-17', 'korea'],['mohsinbaig', '2022-02-17', 'pakistan'],['aewdynamite', '2022-02-17', 'worldwide'],['aaraattu', '2022-02-17', 'india'],['ShivajiJayanti', '2022-02-18', 'india'],['PlotToKillModi', '2022-02-18', 'india'],['NationalDrinkWineDay', '2022-02-18', 'usa'],['HorizonForbiddenWest', '2022-02-18', 'worldwide'],['BoycottWalgreens', '2022-02-18', 'usa'],['CallTheMidwife', '2022-02-20', 'worldwide'],['OperationDudula', '2022-02-20', 'south africa'],['truthsocial', '2022-02-21', 'usa'],['nbaallstar', '2022-02-21', 'usa'],['shivamogga', '2022-02-21', 'india'],['HalftimeShow', '2022-02-14', 'usa'],['OttawaStrong', '2022-02-14', 'canada'],['DrDre', '2022-02-14', 'usa'],['BattleOfBillingsBridge', '2022-02-14', 'usa'],['FullyFaltooNFTdrop', '2022-02-14', 'worldwide'],['AK61', '2022-02-15', 'india'],['sandhyamukherjee', '2022-02-15', 'india'],['MUNBHA', '2022-02-15', 'worldwide'],['nursesstrike', '2022-02-15', 'australia'],['Realme9ProPlus', '2022-02-16', 'worldwide'],['KarnatakaHijabControversy', '2022-02-16', 'india'],['BJPwinningUP', '2022-02-16', 'india'],['Punjab_With_Modi', '2022-02-16', 'india'],['PushpaTheRule', '2022-02-16', 'india'],['RehmanMalik', '2022-02-22', 'india'],['harisrauf', '2022-02-22', 'pakistan'],['Rosettenville', '2022-02-22', 'south africa'],['NFU22', '2022-02-22', 'worldwide'],['justiceforharsha', '2022-02-22', 'india'],['wordle251', '2022-02-24', 'worldwide'],['ARSWOL', '2022-02-24', 'worldwide'],['stopwar', '2022-02-24', 'worldwide'],['PrayForPeace', '2022-02-24', 'worldwide'],['StopPutinNOW', '2022-02-24', 'worldwide'],['TeamGirlsCup', '2022-02-25', 'worldwide'],['Canucks', '2022-02-25', 'worldwide'],['PinkShirtDay', '2022-02-25', 'canada'],['superrugbypacific', '2022-02-25', 'australia']]"
      ],
      "metadata": {
        "id": "tO8i_IIiH9PI"
      },
      "execution_count": 22,
      "outputs": []
    },
    {
      "cell_type": "code",
      "source": [
        "global_average_mean_average_precision_1 = []\n",
        "global_mean_average_recall_1 = []\n",
        "\n",
        "global_average_mean_average_precision_2 = []\n",
        "global_mean_average_recall_2 = []\n",
        "\n",
        "for iter in tqdm(range(len(global_list))):\n",
        "  u_base_hashtag = global_list[iter][0]\n",
        "  u_time = global_list[iter][1]\n",
        "  u_location = global_list[iter][2]\n",
        "  tweet_query = []\n",
        "  format = '%Y-%m-%d'\n",
        "  u_present_date = datetime.datetime.strptime(u_time, format)\n",
        "  u_prev_date = u_present_date - datetime.timedelta(days=1)\n",
        "  u_next_date = u_present_date + datetime.timedelta(days=1)\n",
        "  df_query = df.loc[df['hashtags'].str.contains(u_base_hashtag) & df['Date_Only'].isin([str(u_present_date.date()), str(u_prev_date.date()), str(u_next_date.date())])]\n",
        "\n",
        "  for tweet in df_query['Preprocessed_Data']:\n",
        "    tweet_query.extend(tweet)\n",
        "  \n",
        "  tweet_keywords = []\n",
        "  kw_extractor = yake.KeywordExtractor(top=20, stopwords=None)\n",
        "  keywords = kw_extractor.extract_keywords(' '.join(tweet_query))\n",
        "  for kw, v in keywords:\n",
        "    #print(\"Keyphrase: \",kw, \": score\", v)\n",
        "    for key in kw.split():\n",
        "      if(key not in tweet_keywords):\n",
        "        tweet_keywords.append(key)\n",
        "  \n",
        "  docs_preprocessed = []\n",
        "\n",
        "  total_documents = 0\n",
        "  path = '/content/drive/MyDrive/Tweelink_Dataset/Tweelink_Articles_Processed'\n",
        "  for filename in glob(os.path.join(path, '*')):\n",
        "    with open(os.path.join(os.getcwd(), filename), 'r', encoding = 'utf-8',errors = 'ignore') as f:\n",
        "      filename = os.path.basename(f.name)\n",
        "      data = json.load(f)\n",
        "      d_date = data[\"Date\"]\n",
        "      if(d_date==\"\" or d_date==\"Date\"):\n",
        "        continue\n",
        "      format = '%Y-%m-%d'\n",
        "  \n",
        "      d_present_date = datetime.datetime.strptime(d_date, format)\n",
        "  \n",
        "      if(str(d_present_date.date()) not in [str(u_present_date.date()), str(u_prev_date.date()), str(u_next_date.date())]):\n",
        "        continue\n",
        "    \n",
        "      docs_preprocessed.append({'Name':filename, 'Data':data})\n",
        "      total_documents+=1\n",
        "  \n",
        "  articles, articles_with_name, docs_preprocessed_metrics = import_dataset()\n",
        "  bim  = BIM(articles, articles_with_name)\n",
        "  relevant_articles_list_1 = bim.answer_query(\" \".join(tweet_query))\n",
        "  mean_average_precision_hashtag_1 = mean_average_precision(20, u_base_hashtag, u_time, relevant_articles_list_1, docs_preprocessed_metrics)\n",
        "  global_average_mean_average_precision_1.append(mean_average_precision_hashtag_1)\n",
        "  mean_average_recall_hashtag_1 = mean_average_recall(20, u_base_hashtag, u_time, relevant_articles_list_1, docs_preprocessed_metrics)\n",
        "  global_mean_average_recall_1.append(mean_average_recall_hashtag_1)\n",
        "\n",
        "  bim  = BIM(articles, articles_with_name)\n",
        "  relevant_articles_list_2 = bim.answer_query(\" \".join(tweet_keywords))\n",
        "  mean_average_precision_hashtag_2 = mean_average_precision(20, u_base_hashtag, u_time, relevant_articles_list_2, docs_preprocessed_metrics)\n",
        "  global_average_mean_average_precision_2.append(mean_average_precision_hashtag_2)\n",
        "  mean_average_recall_hashtag_2 = mean_average_recall(20, u_base_hashtag, u_time, relevant_articles_list_2, docs_preprocessed_metrics)\n",
        "  global_mean_average_recall_2.append(mean_average_recall_hashtag_2)"
      ],
      "metadata": {
        "id": "V9tAOGJoGY8s"
      },
      "execution_count": null,
      "outputs": []
    },
    {
      "cell_type": "code",
      "source": [
        "overall_average_mean_average_precision_1 = sum(global_average_mean_average_precision_1)/len(global_average_mean_average_precision_1)\n",
        "print(overall_average_mean_average_precision_1)\n",
        "\n",
        "overall_mean_average_recall_1 = sum(global_mean_average_recall_1)/len(global_mean_average_recall_1)\n",
        "print(overall_mean_average_recall_1)"
      ],
      "metadata": {
        "colab": {
          "base_uri": "https://localhost:8080/"
        },
        "id": "0GxfFKviHra7",
        "outputId": "bb107098-4dfd-4a39-baaa-c7716f9ab36e"
      },
      "execution_count": 30,
      "outputs": [
        {
          "output_type": "stream",
          "name": "stdout",
          "text": [
            "0.057423010426106404\n",
            "0.03669117647058824\n"
          ]
        }
      ]
    },
    {
      "cell_type": "code",
      "source": [
        "overall_average_mean_average_precision_2 = sum(global_average_mean_average_precision_2)/len(global_average_mean_average_precision_2)\n",
        "print(overall_average_mean_average_precision_2)\n",
        "\n",
        "overall_mean_average_recall_2 = sum(global_mean_average_recall_2)/len(global_mean_average_recall_2)\n",
        "print(overall_mean_average_recall_2)"
      ],
      "metadata": {
        "colab": {
          "base_uri": "https://localhost:8080/"
        },
        "id": "rNfhZmJSH0hU",
        "outputId": "a19d800b-8430-4f61-b4e7-58520cb527a4"
      },
      "execution_count": 32,
      "outputs": [
        {
          "output_type": "stream",
          "name": "stdout",
          "text": [
            "0.5463430936108954\n",
            "0.3013970588235294\n"
          ]
        }
      ]
    }
  ],
  "metadata": {
    "colab": {
      "name": "baseline_results_binary_independence.ipynb",
      "provenance": [],
      "collapsed_sections": []
    },
    "kernelspec": {
      "display_name": "Python 3",
      "name": "python3"
    },
    "language_info": {
      "name": "python"
    }
  },
  "nbformat": 4,
  "nbformat_minor": 0
}